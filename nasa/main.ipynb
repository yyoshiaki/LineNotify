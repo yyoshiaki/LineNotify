{
 "cells": [
  {
   "cell_type": "code",
   "execution_count": 2,
   "metadata": {
    "collapsed": true
   },
   "outputs": [],
   "source": [
    "import datetime\n",
    "import requests\n",
    "\n",
    "from nasa import apod\n",
    "from crontab import CronTab"
   ]
  },
  {
   "cell_type": "code",
   "execution_count": null,
   "metadata": {
    "collapsed": true
   },
   "outputs": [],
   "source": [
    "# やること\n",
    "# https://api.nasa.gov/index.html#getting-startedでNASAのAPI keyを取得\n",
    "# pip install nasa-api-wraper\n",
    "# echo export NASA_API_KEY='所得したAPI key' >> ~/.bashrc\n",
    "\n",
    "# 定時実行するために\n",
    "# pip install crontab"
   ]
  },
  {
   "cell_type": "code",
   "execution_count": 10,
   "metadata": {},
   "outputs": [
    {
     "data": {
      "text/plain": [
       "'https://apod.nasa.gov/apod/image/1711/Ngc891Bagi1024.jpg'"
      ]
     },
     "execution_count": 10,
     "metadata": {},
     "output_type": "execute_result"
    }
   ],
   "source": [
    "today = datetime.date.today()\n",
    "pic = apod.apod('{y}-{m}-{d}'.format(y=today.year, m=today.month, d=today.day))"
   ]
  },
  {
   "cell_type": "code",
   "execution_count": 11,
   "metadata": {},
   "outputs": [],
   "source": [
    "# NASAのAPIから取得した画像をダウンロード。\n",
    "res = requests.get(pic.url)\n",
    "if res.status_code == 200:\n",
    "    image_name = 'data/Ast_{y}_{m}_{d}.jpg'.format(y=today.year, m=today.month, d=today.day)\n",
    "    with open(image_name, 'wb') as file:\n",
    "        file.write(res.content)"
   ]
  },
  {
   "cell_type": "code",
   "execution_count": 12,
   "metadata": {},
   "outputs": [],
   "source": [
    "# ダウンロードした画像をLINEで送信。\n",
    "line_notify_token = 'Nx65SaE79U7f21I27lO6UIrwBgNUfL1dHxoENSm7Kqr'\n",
    "line_notify_api = 'https://notify-api.line.me/api/notify'\n",
    "message = '今日の宇宙です。　#NASA'\n",
    "\n",
    "\n",
    "payload = {'message': message}\n",
    "headers = {'Authorization': 'Bearer ' + line_notify_token}  # 発行したトークン\n",
    "files = {\"imageFile\": open(image_name, \"rb\")}\n",
    "line_notify = requests.post(line_notify_api, data=payload, files=files, headers=headers)"
   ]
  },
  {
   "cell_type": "code",
   "execution_count": 8,
   "metadata": {
    "collapsed": true
   },
   "outputs": [],
   "source": [
    "def GetImageAst(date, image_name):\n",
    "    pic = apod.apod('{y}-{m}-{d}'.format(y=date.year, m=date.month, d=date.day))\n",
    "    # NASAのAPIから取得した画像をダウンロード。\n",
    "    res = requests.get(pic.url)\n",
    "    if res.status_code == 200:\n",
    "        with open(image_name, 'wb') as file:\n",
    "            file.write(res.content)\n",
    "            \n",
    "            \n",
    "def SendImage(image_name, line_notify_token):\n",
    "    # ダウンロードした画像をLINEで送信。\n",
    "    line_notify_api = 'https://notify-api.line.me/api/notify'\n",
    "    message = '今日の宇宙。　#NASA'\n",
    "    payload = {'message': message}\n",
    "    headers = {'Authorization': 'Bearer ' + line_notify_token}  # 発行したトークン\n",
    "    files = {\"imageFile\": open(image_name, \"rb\")}\n",
    "    line_notify = requests.post(line_notify_api, data=payload, files=files, headers=headers)"
   ]
  },
  {
   "cell_type": "code",
   "execution_count": 11,
   "metadata": {},
   "outputs": [],
   "source": [
    "if __name__ == '__main__':\n",
    "    line_notify_token = 'aJnuEOsetjSgZR6GwqCAVOT2bUKSA0bSpf8N0f75TAw'\n",
    "    date = datetime.date.today()\n",
    "    image_name = 'data/Ast_{y}_{m}_{d}.jpg'.format(y=date.year, m=date.month, d=date.day)\n",
    "    GetImageAst(date, image_name)\n",
    "    SendImage(image_name, line_notify_token)"
   ]
  },
  {
   "cell_type": "code",
   "execution_count": 12,
   "metadata": {
    "collapsed": true
   },
   "outputs": [],
   "source": []
  },
  {
   "cell_type": "code",
   "execution_count": 13,
   "metadata": {
    "collapsed": true
   },
   "outputs": [],
   "source": [
    "import main"
   ]
  },
  {
   "cell_type": "code",
   "execution_count": 14,
   "metadata": {},
   "outputs": [
    {
     "ename": "TypeError",
     "evalue": "'module' object is not callable",
     "output_type": "error",
     "traceback": [
      "\u001b[0;31m---------------------------------------------------------------------------\u001b[0m",
      "\u001b[0;31mTypeError\u001b[0m                                 Traceback (most recent call last)",
      "\u001b[0;32m<ipython-input-14-263240bbee7e>\u001b[0m in \u001b[0;36m<module>\u001b[0;34m()\u001b[0m\n\u001b[0;32m----> 1\u001b[0;31m \u001b[0mmain\u001b[0m\u001b[0;34m(\u001b[0m\u001b[0;34m)\u001b[0m\u001b[0;34m\u001b[0m\u001b[0m\n\u001b[0m",
      "\u001b[0;31mTypeError\u001b[0m: 'module' object is not callable"
     ]
    }
   ],
   "source": [
    "main()"
   ]
  },
  {
   "cell_type": "code",
   "execution_count": null,
   "metadata": {
    "collapsed": true
   },
   "outputs": [],
   "source": []
  }
 ],
 "metadata": {
  "anaconda-cloud": {},
  "kernelspec": {
   "display_name": "Python [conda root]",
   "language": "python",
   "name": "conda-root-py"
  },
  "language_info": {
   "codemirror_mode": {
    "name": "ipython",
    "version": 3
   },
   "file_extension": ".py",
   "mimetype": "text/x-python",
   "name": "python",
   "nbconvert_exporter": "python",
   "pygments_lexer": "ipython3",
   "version": "3.5.2"
  }
 },
 "nbformat": 4,
 "nbformat_minor": 1
}
